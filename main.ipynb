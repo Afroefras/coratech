{
 "cells": [
  {
   "cell_type": "markdown",
   "metadata": {},
   "source": [
    "# Entorno"
   ]
  },
  {
   "cell_type": "code",
   "execution_count": 4,
   "metadata": {},
   "outputs": [],
   "source": [
    "from extract import load_pairs"
   ]
  },
  {
   "cell_type": "markdown",
   "metadata": {},
   "source": [
    "# Relación de datos"
   ]
  },
  {
   "cell_type": "code",
   "execution_count": 5,
   "metadata": {},
   "outputs": [
    {
     "data": {
      "text/plain": [
       "[(PosixPath('data/mobile/EF-20240201-2053.m4a'),\n",
       "  PosixPath('data/digital/EF-20240201-2053.wav'))]"
      ]
     },
     "execution_count": 5,
     "metadata": {},
     "output_type": "execute_result"
    }
   ],
   "source": [
    "audios = load_pairs(\n",
    "    mobile_dir=\"data/mobile\",\n",
    "    mobile_ext=\".m4a\",\n",
    "    digital_dir=\"data/digital\",\n",
    "    digital_ext=\".wav\"\n",
    ")\n",
    "\n",
    "audios"
   ]
  }
 ],
 "metadata": {
  "language_info": {
   "name": "python"
  }
 },
 "nbformat": 4,
 "nbformat_minor": 2
}
