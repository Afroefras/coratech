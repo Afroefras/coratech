{
 "cells": [
  {
   "cell_type": "code",
   "execution_count": 3,
   "metadata": {},
   "outputs": [],
   "source": [
    "import numpy as np\n",
    "from typing import Tuple\n",
    "from IPython.display import Audio\n",
    "from scipy.io.wavfile import write\n",
    "\n",
    "def generate_synthetic_wave(frequency: int, secs_duration: int, sample_rate: int=4000) -> Tuple[np.ndarray, int]:\n",
    "    t = np.linspace(0, secs_duration, int(sample_rate * secs_duration), endpoint=False)\n",
    "    wave = 0.5 * np.sin(2 * np.pi * frequency * t)\n",
    "    return wave, sample_rate\n",
    "\n",
    "def save_wave_to_wav(wave: np.ndarray, sample_rate: int, filename: str, volume: float = 0.1) -> None:\n",
    "    wave = wave * volume\n",
    "    wave = np.int16(wave * 32767)\n",
    "    write(filename, sample_rate, wave)"
   ]
  },
  {
   "cell_type": "code",
   "execution_count": 4,
   "metadata": {},
   "outputs": [
    {
     "data": {
      "text/html": [
       "\n",
       "                <audio  controls=\"controls\" autoplay=\"autoplay\">\n",
       "                    <source src=\"data:audio/wav;base64,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\" type=\"audio/wav\" />\n",
       "                    Your browser does not support the audio element.\n",
       "                </audio>\n",
       "              "
      ],
      "text/plain": [
       "<IPython.lib.display.Audio object>"
      ]
     },
     "execution_count": 4,
     "metadata": {},
     "output_type": "execute_result"
    }
   ],
   "source": [
    "FREQUENCY = 190\n",
    "DURATION = 1\n",
    "wave, sample_rate = generate_synthetic_wave(FREQUENCY, DURATION)\n",
    "\n",
    "Audio(wave, rate=sample_rate, autoplay=True)"
   ]
  },
  {
   "cell_type": "code",
   "execution_count": 8,
   "metadata": {},
   "outputs": [],
   "source": [
    "FILENAME = f\"trigger-{FREQUENCY}-{str(DURATION).zfill(2)}.wav\"\n",
    "VOLUMEN = 1\n",
    "save_wave_to_wav(wave, sample_rate, FILENAME, VOLUMEN)"
   ]
  }
 ],
 "metadata": {
  "kernelspec": {
   "display_name": "cortatech-0MvXe6rz",
   "language": "python",
   "name": "python3"
  },
  "language_info": {
   "codemirror_mode": {
    "name": "ipython",
    "version": 3
   },
   "file_extension": ".py",
   "mimetype": "text/x-python",
   "name": "python",
   "nbconvert_exporter": "python",
   "pygments_lexer": "ipython3",
   "version": "3.11.5"
  }
 },
 "nbformat": 4,
 "nbformat_minor": 2
}
