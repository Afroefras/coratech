{
 "cells": [
  {
   "cell_type": "code",
   "execution_count": 1,
   "metadata": {},
   "outputs": [
    {
     "data": {
      "text/plain": [
       "(tensor([[ 2.5042e-08,  9.0870e-08,  1.8204e-07,  ..., -2.7731e-02,\n",
       "          -2.7269e-02, -2.7010e-02]]),\n",
       " 44100)"
      ]
     },
     "execution_count": 1,
     "metadata": {},
     "output_type": "execute_result"
    }
   ],
   "source": [
    "import torchaudio\n",
    "import numpy as np\n",
    "import scipy.signal\n",
    "from transform import standard_scale\n",
    "\n",
    "# Cargar el audio\n",
    "audio, sample_rate = torchaudio.load('data/mobile/test_clicker.mp4')\n",
    "audio, sample_rate"
   ]
  },
  {
   "cell_type": "code",
   "execution_count": 2,
   "metadata": {},
   "outputs": [
    {
     "data": {
      "text/plain": [
       "(tensor(4.5920e-09), tensor(1.))"
      ]
     },
     "execution_count": 2,
     "metadata": {},
     "output_type": "execute_result"
    }
   ],
   "source": [
    "# Normalizar el audio\n",
    "scaled_audio = standard_scale(audio[0])  # Asumiendo un canal mono\n",
    "scaled_audio.mean(), scaled_audio.std()"
   ]
  },
  {
   "cell_type": "code",
   "execution_count": 3,
   "metadata": {},
   "outputs": [
    {
     "data": {
      "text/plain": [
       "array([5.18192271e-03  +0.j        , 1.01710533e+02+181.06093701j,\n",
       "       2.77745305e+02 -68.49700401j, ..., 1.75391948e+02 +99.05084083j,\n",
       "       2.77745305e+02 +68.49700401j, 1.01710533e+02-181.06093701j])"
      ]
     },
     "execution_count": 3,
     "metadata": {},
     "output_type": "execute_result"
    }
   ],
   "source": [
    "# Aplicar la transformada de Fourier\n",
    "transformed = np.fft.fft(scaled_audio)\n",
    "transformed"
   ]
  },
  {
   "cell_type": "code",
   "execution_count": 4,
   "metadata": {},
   "outputs": [
    {
     "data": {
      "text/plain": [
       "array([5.18192271e-03, 2.07673049e+02, 2.86066940e+02, ...,\n",
       "       2.01428411e+02, 2.86066940e+02, 2.07673049e+02])"
      ]
     },
     "execution_count": 4,
     "metadata": {},
     "output_type": "execute_result"
    }
   ],
   "source": [
    "# Calcular la magnitud del espectro\n",
    "magnitude = np.abs(transformed)\n",
    "magnitude"
   ]
  },
  {
   "cell_type": "code",
   "execution_count": 5,
   "metadata": {},
   "outputs": [
    {
     "data": {
      "text/plain": [
       "array([ 0.        ,  0.03879856,  0.07759713, ..., -0.11639569,\n",
       "       -0.07759713, -0.03879856])"
      ]
     },
     "execution_count": 5,
     "metadata": {},
     "output_type": "execute_result"
    }
   ],
   "source": [
    "# Convertir índices a frecuencias\n",
    "frequencies = np.fft.fftfreq(len(scaled_audio), 1 / sample_rate)\n",
    "frequencies"
   ]
  },
  {
   "cell_type": "code",
   "execution_count": 6,
   "metadata": {},
   "outputs": [
    {
     "data": {
      "text/plain": [
       "array([3360.41733176, 3618.09102207, 3877.39077158, ..., 4137.9649276 ,\n",
       "       3877.38566454, 3618.08585894])"
      ]
     },
     "execution_count": 6,
     "metadata": {},
     "output_type": "execute_result"
    }
   ],
   "source": [
    "# Suavizar el espectro (opcional)\n",
    "window = scipy.signal.windows.hamming(51)\n",
    "magnitude = scipy.signal.convolve(magnitude, window, mode='same')\n",
    "magnitude"
   ]
  },
  {
   "cell_type": "code",
   "execution_count": 7,
   "metadata": {},
   "outputs": [
    {
     "data": {
      "text/plain": [
       "56.26296172314879"
      ]
     },
     "execution_count": 7,
     "metadata": {},
     "output_type": "execute_result"
    }
   ],
   "source": [
    "# Establecer un umbral basado en un múltiplo del valor medio o mediano\n",
    "threshold = np.median(magnitude) * 2  # Ajusta el factor según sea necesario\n",
    "threshold"
   ]
  },
  {
   "cell_type": "code",
   "execution_count": 8,
   "metadata": {},
   "outputs": [
    {
     "data": {
      "text/plain": [
       "array([     43,      48,     143, ..., 1136497, 1136592, 1136597])"
      ]
     },
     "execution_count": 8,
     "metadata": {},
     "output_type": "execute_result"
    }
   ],
   "source": [
    "# Detectar picos\n",
    "peaks, _ = scipy.signal.find_peaks(magnitude, height=threshold)\n",
    "peaks"
   ]
  },
  {
   "cell_type": "code",
   "execution_count": 9,
   "metadata": {},
   "outputs": [
    {
     "data": {
      "text/plain": [
       "array([ 1.66833826,  1.86233108,  5.54819468, ..., -5.54819468,\n",
       "       -1.86233108, -1.66833826])"
      ]
     },
     "execution_count": 9,
     "metadata": {},
     "output_type": "execute_result"
    }
   ],
   "source": [
    "# Encontrar las frecuencias de los picos\n",
    "peak_frequencies = frequencies[peaks]\n",
    "peak_frequencies"
   ]
  },
  {
   "cell_type": "code",
   "execution_count": 10,
   "metadata": {},
   "outputs": [
    {
     "name": "stdout",
     "output_type": "stream",
     "text": [
      "La frecuencia del clicker se estima que está alrededor de: -62.038904138513516 Hz\n"
     ]
    }
   ],
   "source": [
    "# Identificar el pico más prominente o el que coincide con la frecuencia esperada del clicker\n",
    "clicker_peak_freq = peak_frequencies[np.argmax(magnitude[peaks])]\n",
    "\n",
    "print(f\"La frecuencia del clicker se estima que está alrededor de: {clicker_peak_freq} Hz\")"
   ]
  },
  {
   "cell_type": "code",
   "execution_count": 11,
   "metadata": {},
   "outputs": [],
   "source": [
    "from scipy.signal import butter, filtfilt, find_peaks\n",
    "\n",
    "# Diseñar un filtro de paso de banda para la frecuencia del clicker\n",
    "def design_bandpass_filter(lowcut, highcut, fs, order=5):\n",
    "    nyq = 0.5 * fs\n",
    "    low = lowcut / nyq\n",
    "    high = highcut / nyq\n",
    "    b, a = butter(order, [low, high], btype='band')\n",
    "    return b, a\n",
    "\n",
    "# Aplicar el filtro de paso de banda a la señal de audio\n",
    "def bandpass_filter(data, lowcut, highcut, fs, order=5):\n",
    "    b, a = design_bandpass_filter(lowcut, highcut, fs, order=order)\n",
    "    y = filtfilt(b, a, data)\n",
    "    return y"
   ]
  },
  {
   "cell_type": "code",
   "execution_count": null,
   "metadata": {},
   "outputs": [],
   "source": [
    "# Definir el rango de la banda alrededor de la frecuencia del clicker\n",
    "tolerance = 5  # Esto es solo un ejemplo, ajusta según la anchura de la banda deseada\n",
    "filtered_audio = bandpass_filter(scaled_audio, clicker_peak_freq - tolerance, clicker_peak_freq + tolerance, sample_rate, order=2)\n",
    "\n",
    "# Detectar eventos de clicker en el tiempo\n",
    "magnitude_filtered = np.abs(filtered_audio)\n",
    "threshold_clicker_time = np.median(magnitude_filtered) * 1.5  # Ajusta este valor según sea necesario\n",
    "clicker_events, _ = find_peaks(magnitude_filtered, height=threshold_clicker_time)\n",
    "\n",
    "# Mapear los índices de eventos a tiempos reales\n",
    "clicker_times = clicker_events / sample_rate\n",
    "\n",
    "# Ahora tienes los tiempos en los que ocurren los eventos del clicker\n",
    "print(clicker_times)\n"
   ]
  },
  {
   "cell_type": "code",
   "execution_count": null,
   "metadata": {},
   "outputs": [],
   "source": []
  },
  {
   "cell_type": "code",
   "execution_count": null,
   "metadata": {},
   "outputs": [],
   "source": []
  },
  {
   "cell_type": "code",
   "execution_count": 11,
   "metadata": {},
   "outputs": [
    {
     "name": "stdout",
     "output_type": "stream",
     "text": [
      "El pico del clicker se encuentra en: 2035.7606630067569 Hz\n"
     ]
    }
   ],
   "source": [
    "\n",
    "\n",
    "\n",
    "\n",
    "# Identificar el pico de frecuencia del clicker\n",
    "# Supongamos que ya conocemos que el clicker tiene una frecuencia aproximada\n",
    "clicker_freq = 2000  # Frecuencia aproximada del clicker en Hz\n",
    "tolerance = 50  # Tolerancia en Hz alrededor de la frecuencia del clicker\n",
    "\n",
    "# Encontrar el índice del pico en el rango de frecuencias\n",
    "indices = (frequencies > (clicker_freq - tolerance)) & (frequencies < (clicker_freq + tolerance))\n",
    "peak_index = np.argmax(magnitude[indices])\n",
    "\n",
    "# Frecuencia real del pico\n",
    "real_peak_freq = frequencies[indices][peak_index]\n",
    "\n",
    "print(f\"El pico del clicker se encuentra en: {real_peak_freq} Hz\")\n"
   ]
  },
  {
   "cell_type": "code",
   "execution_count": null,
   "metadata": {},
   "outputs": [],
   "source": []
  },
  {
   "cell_type": "code",
   "execution_count": null,
   "metadata": {},
   "outputs": [],
   "source": []
  },
  {
   "cell_type": "code",
   "execution_count": null,
   "metadata": {},
   "outputs": [],
   "source": []
  },
  {
   "cell_type": "code",
   "execution_count": null,
   "metadata": {},
   "outputs": [],
   "source": []
  },
  {
   "cell_type": "code",
   "execution_count": null,
   "metadata": {},
   "outputs": [],
   "source": [
    "\n",
    "# Asumiendo que 'magnitude' y 'frequencies' se obtuvieron como se describió anteriormente\n",
    "\n",
    "# Suavizar el espectro (opcional)\n",
    "# window = scipy.signal.windows.hamming(51)\n",
    "# smoothed_magnitude = scipy.signal.convolve(magnitude, window, mode='same')\n",
    "\n",
    "# Establecer un umbral basado en un múltiplo del valor medio o mediano\n",
    "threshold = np.median(magnitude) * 5  # Ajusta el factor según sea necesario\n",
    "\n",
    "# Detectar picos\n",
    "peaks, _ = scipy.signal.find_peaks(magnitude, height=threshold)\n",
    "\n",
    "# Encontrar las frecuencias de los picos\n",
    "peak_frequencies = frequencies[peaks]\n",
    "\n",
    "# Identificar el pico más prominente o el que coincide con la frecuencia esperada del clicker\n",
    "clicker_peak_freq = peak_frequencies[np.argmax(magnitude[peaks])]\n",
    "\n",
    "print(f\"La frecuencia del clicker se estima que está alrededor de: {clicker_peak_freq} Hz\")\n"
   ]
  }
 ],
 "metadata": {
  "kernelspec": {
   "display_name": "cortatech-0MvXe6rz",
   "language": "python",
   "name": "python3"
  },
  "language_info": {
   "codemirror_mode": {
    "name": "ipython",
    "version": 3
   },
   "file_extension": ".py",
   "mimetype": "text/x-python",
   "name": "python",
   "nbconvert_exporter": "python",
   "pygments_lexer": "ipython3",
   "version": "3.11.7"
  }
 },
 "nbformat": 4,
 "nbformat_minor": 2
}
